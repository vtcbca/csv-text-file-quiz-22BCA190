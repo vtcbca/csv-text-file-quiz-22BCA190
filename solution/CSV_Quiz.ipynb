{
 "cells": [
  {
   "cell_type": "code",
   "execution_count": 28,
   "id": "3b5c1ad8",
   "metadata": {},
   "outputs": [
    {
     "name": "stdout",
     "output_type": "stream",
     "text": [
      "my name is chravin.\n",
      "my father name is jayeshbai.\n",
      "my mother name is ritaben.\n",
      "i am 18 years old.\n",
      "my brother name is nol.\n",
      "my grandfather name is chanubhai.\n",
      "my grandmnother name is chandanben.\n",
      "my sister name is dhruvi.\n",
      "i am living at kani.\n",
      "i am study in vtcbcsr in bca.\n",
      "i am bca 3rd sem student.\n"
     ]
    }
   ],
   "source": [
    "with open(\"quiz.txt\",'r') as file:\n",
    "    rec=file.read()\n",
    "    print(rec)"
   ]
  },
  {
   "cell_type": "code",
   "execution_count": null,
   "id": "e5c4f990",
   "metadata": {},
   "outputs": [],
   "source": []
  }
 ],
 "metadata": {
  "kernelspec": {
   "display_name": "Python 3 (ipykernel)",
   "language": "python",
   "name": "python3"
  },
  "language_info": {
   "codemirror_mode": {
    "name": "ipython",
    "version": 3
   },
   "file_extension": ".py",
   "mimetype": "text/x-python",
   "name": "python",
   "nbconvert_exporter": "python",
   "pygments_lexer": "ipython3",
   "version": "3.11.4"
  }
 },
 "nbformat": 4,
 "nbformat_minor": 5
}
